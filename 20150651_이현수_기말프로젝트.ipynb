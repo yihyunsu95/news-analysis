{
 "cells": [
  {
   "cell_type": "markdown",
   "metadata": {},
   "source": [
    "\n",
    "1. run time 측정기\n",
    "\n",
    "2. 크롤링 - 키워드를 받아서 넣고 검색해서 100개의 url 가져오기\n",
    "crawld, parameter(키워드, 개수, 다음이 실린 것만 가져올지)\n",
    "\n",
    "3. csv 가져와서 데이터프레임 만들기\n",
    "없으면 생성, datetime이 행으로 들어감\n",
    "url 열에 100개 들어감\n",
    "마지막열에 url 총 개수\n",
    "\n",
    "\n",
    "4. 시각화\n",
    "개수 추이 선형 그래프로 보여줌\n",
    "\n",
    "5. 파일로 저장\n",
    "\n",
    "6. okt로 명사 형용사 동사 빈도수 top10개\n",
    "\n",
    "\n",
    "7. csv는 파일이 깨짐 excel파일로 작업해야함\n"
   ]
  },
  {
   "cell_type": "code",
   "execution_count": 26,
   "metadata": {},
   "outputs": [],
   "source": [
    "class Runtime():\n",
    "    def __init__(self,f):\n",
    "        self.func = f\n",
    "        \n",
    "    def __call__(self,keyword,many):\n",
    "        start = dt.datetime.now()\n",
    "        self.func(keyword,many)\n",
    "        delta = dt.datetime.now() - start\n",
    "        print('코드 실행시간은 ',delta)"
   ]
  },
  {
   "cell_type": "code",
   "execution_count": 40,
   "metadata": {},
   "outputs": [
    {
     "name": "stdout",
     "output_type": "stream",
     "text": [
      "200\n",
      "200\n",
      "200\n",
      "200\n",
      "200\n",
      "200\n",
      "200\n",
      "200\n",
      "200\n",
      "200\n",
      "코드 실행시간은  0:00:04.028494\n"
     ]
    }
   ],
   "source": [
    "@Runtime\n",
    "def check_status(keyword,many):\n",
    "    for i in range(many):\n",
    "        url = 'https://search.daum.net/search?w=news&q={}&DA=PGD&spacing=0&p={}'.format(keyword,many) \n",
    "        response = requests.get(url) \n",
    "        print(response.status_code)\n",
    "check_status('korea',10)"
   ]
  },
  {
   "cell_type": "code",
   "execution_count": 2,
   "metadata": {},
   "outputs": [],
   "source": [
    "def neg_error(num):\n",
    "    if num<1:\n",
    "        my_error = ValueError('{}은 음수입니다.'.format(num))\n",
    "        raise my_error\n",
    "    return num"
   ]
  },
  {
   "cell_type": "code",
   "execution_count": 3,
   "metadata": {},
   "outputs": [],
   "source": [
    "from bs4 import BeautifulSoup as bs\n",
    "import requests\n",
    "import re\n",
    "import pandas as pd\n",
    "import numpy as np\n",
    "import csv\n",
    "import os\n",
    "import datetime as dt\n",
    "from konlpy.tag import Okt\n",
    "\n",
    "\n",
    "\n",
    "\n",
    "class CrawlD(object):\n",
    "    def __init__(self,search,many,daum):\n",
    "        self.search = search\n",
    "        self.many = neg_error(many)\n",
    "        self.daum = daum\n",
    "        self.url = 'https://search.daum.net/search?w=news&q={}&DA=PGD&spacing=0&p='\n",
    "        file_name= input('파일 이름을 입력하세요 : ')\n",
    "        self.file = file_name + '.xlsx'\n",
    "        self.df = pd.DataFrame()\n",
    "    \n",
    "    \n",
    "    def make_url(self):\n",
    "        return self.url.format(self.search)\n",
    "    \n",
    "    \n",
    " \n",
    "    #키워드 바꾸기\n",
    "    def get_search(self):\n",
    "        return self.search\n",
    "    def set_search(self,new_search):\n",
    "        self.search = new_search\n",
    "    new_search = property(get_search,set_search)\n",
    "    # 개수 바꾸기\n",
    "    def set_many(self,new_many):\n",
    "        self.many = new_many\n",
    "    def get_many(self):\n",
    "        return self.many\n",
    "    new_many = property(get_many,set_many)\n",
    "    #모드 바꾸기\n",
    "    def set_daum(self,new_daum):\n",
    "        self.daum = new_daum\n",
    "    def get_daum(self):\n",
    "        return self.daum\n",
    "    new_daum = property(get_daum,set_daum)\n",
    "    \n",
    "    \n",
    "    def open_file(self):\n",
    "        try:\n",
    "            self.df = pd.read_excel(self.file,encoding = 'utf-8',index_col=0)\n",
    "            print('{}이 열렸습니다'.format(self.file))\n",
    "        except FileNotFoundError:\n",
    "            print('파일을 만드세요')\n",
    "    \n",
    "    \n",
    "    def get_news(self):\n",
    "        \n",
    "        start = dt.datetime.now()\n",
    "        print('뉴스를 가져오기 시작합니다')\n",
    "        num = CrawlD.num_gen()\n",
    "        news_df = pd.DataFrame() \n",
    "        url_nums = int()\n",
    "        link_set = set()\n",
    "        date_pattern = re.compile('\\d*.*전.*')\n",
    "        daum_pattern=re.compile('^(http://v.media.daum.net/v/)[0-9]*')\n",
    "        \n",
    "        \n",
    "        #최대 개수보다 적은 동안에 코드를 돌림\n",
    "        while url_nums <= self.many:\n",
    "            flag = len(link_set)\n",
    "            url = CrawlD.make_url(self)+str(next(num))\n",
    "            html = bs(requests.get(url).text)\n",
    "            \n",
    "            #날짜를 확인하기 위한 태그들 가져옴\n",
    "            tags = html.find_all('span',{'class':'f_nb date'})\n",
    "            if self.daum == True:\n",
    "                for tag in tags:\n",
    "                    first = date_pattern.match(tag.text)\n",
    "                    if first:\n",
    "                        second = tag.find_all('a')\n",
    "                        for third in second:\n",
    "                            link_set.add(third.attrs['href'])\n",
    "            url_nums = len(link_set)          \n",
    "            #한 페이지 이상 새로운 뉴스가 없는 경우에는 새로운 뉴스가 없다고 판단하고 break\n",
    "            if flag == url_nums:\n",
    "                print('뉴스를 모두 추가했습니다.')\n",
    "                break\n",
    "        \n",
    "        link_list = list(link_set)\n",
    "        \n",
    "        #가져온 게 더 많을 경우 차감해줌\n",
    "        difference = self.many - url_nums\n",
    "        if difference < 0 :\n",
    "            link_list = link_list[:difference]\n",
    "        url_nums = len(link_list)\n",
    "        \n",
    "        \n",
    "        print('빈도 분석을 실시합니다.')\n",
    "        #빈도 분석 코드\n",
    "        keywords = CrawlD.analysis(self,link_list)\n",
    "        \n",
    "        \n",
    "        date = dt.date.today()\n",
    "        \n",
    "        \n",
    "        #새로운 뉴스를 기존의 데이터에 append\n",
    "        new_news = pd.Series([date,self.search,link_list,url_nums,keywords],\n",
    "                             index = ['date','search word','urls','total number','keywords'])\n",
    "        self.df= self.df.append(new_news,ignore_index=True)\n",
    "        \n",
    "        delta = dt.datetime.now() - start\n",
    "        print('코드 실행시간은 ',delta)\n",
    "        print('='*50)\n",
    "        print('현재 가져온 데이터')\n",
    "        return self.df\n",
    "    \n",
    "    \n",
    "    #파일을 불러온 파일 이름으로 덮어서 저장함\n",
    "    def to_excel(self):\n",
    "        self.df.to_excel(self.file,index=True,encoding='utf-8')\n",
    "        print('{}이 {}에 저장되었습니다.'.format(self.file,os.getcwd()))\n",
    "    \n",
    "    \n",
    "\n",
    "    def num_gen():\n",
    "        n=1 \n",
    "        while True:\n",
    "            yield n\n",
    "            n+=1  \n",
    "            \n",
    "\n",
    "\n",
    "    #자연어 처리, 날짜 키워드 입력하여 해당 url 자연어 분석\n",
    "    def analysis(self,url_list):\n",
    "        full_text = str()\n",
    "        urls = url_list\n",
    "        #공백, 탭, 줄바꿈 등 불필요한 문자들 제거하기 위함\n",
    "        a_pattern=re.compile('&nbsp;|\\t|\\r|\\n|\\xa0')\n",
    "        for url in urls:\n",
    "            html = bs(requests.get(url,'html.parser').text)\n",
    "            #main기사를 가져오는 태그\n",
    "            body = html.find('div',{'id':'mArticle'})\n",
    "            if body:\n",
    "                text=body.get_text()\n",
    "                clean_txt=re.sub(a_pattern,'',text)\n",
    "                #분석의 용이성을 위해서 하나의 스트링으로 붙임\n",
    "                full_text+=clean_txt\n",
    "        #okt를 활용한 형태소 분석\n",
    "        okt = Okt()\n",
    "        stem_list = list()\n",
    "        #목표 형태인 명사,형용사,동사를 리스트로 주고 여기에 해당하는 경우에 추가\n",
    "        target = ['Noun','Adjective','Verb']\n",
    "        for stems in okt.pos(full_text,stem=True):\n",
    "            if stems[1] in target:\n",
    "                stem_list.append(stems)\n",
    "        stem_df = pd.DataFrame(stem_list,columns=['word','stem'])\n",
    "        #valuecount로 빈도수 분석 후 상위 10개 리턴\n",
    "        top_counts = stem_df['word'].value_counts().iloc[:10].index.to_list()\n",
    "        return top_counts\n"
   ]
  },
  {
   "cell_type": "code",
   "execution_count": 43,
   "metadata": {},
   "outputs": [],
   "source": [
    "#시각화\n",
    "import matplotlib.pyplot as plt\n",
    "\n",
    "\n",
    "class Visual(object):\n",
    "    def __init__(self,df,year,month,day):\n",
    "        self.title= str()\n",
    "        self.df = df\n",
    "        self.date = dt.date(year,month,day)   \n",
    "    def plot(self):\n",
    "        select_df = self.df[self.df['date']==self.date]\n",
    "        ready2plot = select_df['total number']\n",
    "        ready2plot.index = select_df['search word']\n",
    "        ready2plot = pd.DataFrame(ready2plot)\n",
    "        ready2plot.plot(kind='bar')\n",
    "        plt.xlabel(self.date)\n",
    "        plt.ylabel('total number')\n",
    "        title = input('제목을 입력해주세요: ')\n",
    "        plt.title(title)\n",
    "        plt.show()\n",
    "    def line_plot(self):\n",
    "        search_word = input('단어를 입력해주세요 : ')\n",
    "        select_df = self.df[self.df['search word']==search_word]\n",
    "        ready2plot = select_df['total number']\n",
    "        ready2plot.index = select_df['date']\n",
    "        ready2plot.plot()\n",
    "        plt.xlabel('date')\n",
    "        plt.ylabel('total number trend')\n",
    "        plt.title(search_word)"
   ]
  },
  {
   "cell_type": "code",
   "execution_count": 5,
   "metadata": {},
   "outputs": [
    {
     "ename": "ValueError",
     "evalue": "-1은 음수입니다.",
     "output_type": "error",
     "traceback": [
      "\u001b[1;31m---------------------------------------------------------------------------\u001b[0m",
      "\u001b[1;31mValueError\u001b[0m                                Traceback (most recent call last)",
      "\u001b[1;32m<ipython-input-5-e64d2d2010ba>\u001b[0m in \u001b[0;36m<module>\u001b[1;34m\u001b[0m\n\u001b[1;32m----> 1\u001b[1;33m \u001b[0mtest2\u001b[0m\u001b[1;33m=\u001b[0m\u001b[0mCrawlD\u001b[0m\u001b[1;33m(\u001b[0m\u001b[1;34m'EU'\u001b[0m\u001b[1;33m,\u001b[0m\u001b[1;33m-\u001b[0m\u001b[1;36m1\u001b[0m\u001b[1;33m,\u001b[0m\u001b[1;32mTrue\u001b[0m\u001b[1;33m)\u001b[0m\u001b[1;33m\u001b[0m\u001b[1;33m\u001b[0m\u001b[0m\n\u001b[0m",
      "\u001b[1;32m<ipython-input-3-bd2b04a2a63e>\u001b[0m in \u001b[0;36m__init__\u001b[1;34m(self, search, many, daum)\u001b[0m\n\u001b[0;32m     15\u001b[0m     \u001b[1;32mdef\u001b[0m \u001b[0m__init__\u001b[0m\u001b[1;33m(\u001b[0m\u001b[0mself\u001b[0m\u001b[1;33m,\u001b[0m\u001b[0msearch\u001b[0m\u001b[1;33m,\u001b[0m\u001b[0mmany\u001b[0m\u001b[1;33m,\u001b[0m\u001b[0mdaum\u001b[0m\u001b[1;33m)\u001b[0m\u001b[1;33m:\u001b[0m\u001b[1;33m\u001b[0m\u001b[1;33m\u001b[0m\u001b[0m\n\u001b[0;32m     16\u001b[0m         \u001b[0mself\u001b[0m\u001b[1;33m.\u001b[0m\u001b[0msearch\u001b[0m \u001b[1;33m=\u001b[0m \u001b[0msearch\u001b[0m\u001b[1;33m\u001b[0m\u001b[1;33m\u001b[0m\u001b[0m\n\u001b[1;32m---> 17\u001b[1;33m         \u001b[0mself\u001b[0m\u001b[1;33m.\u001b[0m\u001b[0mmany\u001b[0m \u001b[1;33m=\u001b[0m \u001b[0mneg_error\u001b[0m\u001b[1;33m(\u001b[0m\u001b[0mmany\u001b[0m\u001b[1;33m)\u001b[0m\u001b[1;33m\u001b[0m\u001b[1;33m\u001b[0m\u001b[0m\n\u001b[0m\u001b[0;32m     18\u001b[0m         \u001b[0mself\u001b[0m\u001b[1;33m.\u001b[0m\u001b[0mdaum\u001b[0m \u001b[1;33m=\u001b[0m \u001b[0mdaum\u001b[0m\u001b[1;33m\u001b[0m\u001b[1;33m\u001b[0m\u001b[0m\n\u001b[0;32m     19\u001b[0m         \u001b[0mself\u001b[0m\u001b[1;33m.\u001b[0m\u001b[0murl\u001b[0m \u001b[1;33m=\u001b[0m \u001b[1;34m'https://search.daum.net/search?w=news&q={}&DA=PGD&spacing=0&p='\u001b[0m\u001b[1;33m\u001b[0m\u001b[1;33m\u001b[0m\u001b[0m\n",
      "\u001b[1;32m<ipython-input-2-7e1c28645001>\u001b[0m in \u001b[0;36mneg_error\u001b[1;34m(num)\u001b[0m\n\u001b[0;32m      2\u001b[0m     \u001b[1;32mif\u001b[0m \u001b[0mnum\u001b[0m\u001b[1;33m<\u001b[0m\u001b[1;36m1\u001b[0m\u001b[1;33m:\u001b[0m\u001b[1;33m\u001b[0m\u001b[1;33m\u001b[0m\u001b[0m\n\u001b[0;32m      3\u001b[0m         \u001b[0mmy_error\u001b[0m \u001b[1;33m=\u001b[0m \u001b[0mValueError\u001b[0m\u001b[1;33m(\u001b[0m\u001b[1;34m'{}은 음수입니다.'\u001b[0m\u001b[1;33m.\u001b[0m\u001b[0mformat\u001b[0m\u001b[1;33m(\u001b[0m\u001b[0mnum\u001b[0m\u001b[1;33m)\u001b[0m\u001b[1;33m)\u001b[0m\u001b[1;33m\u001b[0m\u001b[1;33m\u001b[0m\u001b[0m\n\u001b[1;32m----> 4\u001b[1;33m         \u001b[1;32mraise\u001b[0m \u001b[0mmy_error\u001b[0m\u001b[1;33m\u001b[0m\u001b[1;33m\u001b[0m\u001b[0m\n\u001b[0m\u001b[0;32m      5\u001b[0m     \u001b[1;32mreturn\u001b[0m \u001b[0mnum\u001b[0m\u001b[1;33m\u001b[0m\u001b[1;33m\u001b[0m\u001b[0m\n",
      "\u001b[1;31mValueError\u001b[0m: -1은 음수입니다."
     ]
    }
   ],
   "source": [
    "test2=CrawlD('EU',-1,True)"
   ]
  },
  {
   "cell_type": "code",
   "execution_count": 47,
   "metadata": {
    "scrolled": true
   },
   "outputs": [
    {
     "name": "stdout",
     "output_type": "stream",
     "text": [
      "파일 이름을 입력하세요 : test\n"
     ]
    }
   ],
   "source": [
    "test1 = CrawlD('EU',100,True)"
   ]
  },
  {
   "cell_type": "code",
   "execution_count": 22,
   "metadata": {},
   "outputs": [
    {
     "data": {
      "text/plain": [
       "'https://search.daum.net/search?w=news&q=EU&DA=PGD&spacing=0&p='"
      ]
     },
     "execution_count": 22,
     "metadata": {},
     "output_type": "execute_result"
    }
   ],
   "source": [
    "test1.make_url()"
   ]
  },
  {
   "cell_type": "code",
   "execution_count": 59,
   "metadata": {},
   "outputs": [
    {
     "name": "stdout",
     "output_type": "stream",
     "text": [
      "test.xlsx이 열렸습니다\n"
     ]
    }
   ],
   "source": [
    "test1.open_file()"
   ]
  },
  {
   "cell_type": "code",
   "execution_count": 60,
   "metadata": {},
   "outputs": [
    {
     "data": {
      "text/html": [
       "<div>\n",
       "<style scoped>\n",
       "    .dataframe tbody tr th:only-of-type {\n",
       "        vertical-align: middle;\n",
       "    }\n",
       "\n",
       "    .dataframe tbody tr th {\n",
       "        vertical-align: top;\n",
       "    }\n",
       "\n",
       "    .dataframe thead th {\n",
       "        text-align: right;\n",
       "    }\n",
       "</style>\n",
       "<table border=\"1\" class=\"dataframe\">\n",
       "  <thead>\n",
       "    <tr style=\"text-align: right;\">\n",
       "      <th></th>\n",
       "      <th>date</th>\n",
       "      <th>keywords</th>\n",
       "      <th>search word</th>\n",
       "      <th>total number</th>\n",
       "      <th>urls</th>\n",
       "    </tr>\n",
       "  </thead>\n",
       "  <tbody>\n",
       "    <tr>\n",
       "      <th>0</th>\n",
       "      <td>2020-06-30</td>\n",
       "      <td>['하다', '있다', '되다', '것', '공감', '이', '집행', '기금',...</td>\n",
       "      <td>EU</td>\n",
       "      <td>18</td>\n",
       "      <td>['http://v.media.daum.net/v/20200629070718055'...</td>\n",
       "    </tr>\n",
       "    <tr>\n",
       "      <th>1</th>\n",
       "      <td>2020-06-30</td>\n",
       "      <td>[]</td>\n",
       "      <td>corona</td>\n",
       "      <td>0</td>\n",
       "      <td>[]</td>\n",
       "    </tr>\n",
       "    <tr>\n",
       "      <th>2</th>\n",
       "      <td>2020-06-30</td>\n",
       "      <td>['공감', '하다', '재', '여성', '연합뉴스', '명', '사망', '돼다...</td>\n",
       "      <td>trump</td>\n",
       "      <td>7</td>\n",
       "      <td>['http://v.media.daum.net/v/20200629231703548'...</td>\n",
       "    </tr>\n",
       "    <tr>\n",
       "      <th>3</th>\n",
       "      <td>2020-06-28</td>\n",
       "      <td>NaN</td>\n",
       "      <td>EU</td>\n",
       "      <td>25</td>\n",
       "      <td>NaN</td>\n",
       "    </tr>\n",
       "    <tr>\n",
       "      <th>4</th>\n",
       "      <td>2020-06-29</td>\n",
       "      <td>NaN</td>\n",
       "      <td>EU</td>\n",
       "      <td>10</td>\n",
       "      <td>NaN</td>\n",
       "    </tr>\n",
       "    <tr>\n",
       "      <th>5</th>\n",
       "      <td>2020-06-30</td>\n",
       "      <td>['공감', '하다', '베스트', '보기', '연재', '관련', '태그', '더...</td>\n",
       "      <td>korea</td>\n",
       "      <td>14</td>\n",
       "      <td>['http://v.media.daum.net/v/20200630141826911'...</td>\n",
       "    </tr>\n",
       "    <tr>\n",
       "      <th>7</th>\n",
       "      <td>2020-06-30</td>\n",
       "      <td>['하다', '중계', '공감', '오픈', '스포츠', '폭스', '늘다', '되...</td>\n",
       "      <td>US</td>\n",
       "      <td>6</td>\n",
       "      <td>['http://v.media.daum.net/v/20200630152107684'...</td>\n",
       "    </tr>\n",
       "  </tbody>\n",
       "</table>\n",
       "</div>"
      ],
      "text/plain": [
       "        date                                           keywords search word  \\\n",
       "0 2020-06-30  ['하다', '있다', '되다', '것', '공감', '이', '집행', '기금',...          EU   \n",
       "1 2020-06-30                                                 []      corona   \n",
       "2 2020-06-30  ['공감', '하다', '재', '여성', '연합뉴스', '명', '사망', '돼다...       trump   \n",
       "3 2020-06-28                                                NaN          EU   \n",
       "4 2020-06-29                                                NaN          EU   \n",
       "5 2020-06-30  ['공감', '하다', '베스트', '보기', '연재', '관련', '태그', '더...       korea   \n",
       "7 2020-06-30  ['하다', '중계', '공감', '오픈', '스포츠', '폭스', '늘다', '되...          US   \n",
       "\n",
       "   total number                                               urls  \n",
       "0            18  ['http://v.media.daum.net/v/20200629070718055'...  \n",
       "1             0                                                 []  \n",
       "2             7  ['http://v.media.daum.net/v/20200629231703548'...  \n",
       "3            25                                                NaN  \n",
       "4            10                                                NaN  \n",
       "5            14  ['http://v.media.daum.net/v/20200630141826911'...  \n",
       "7             6  ['http://v.media.daum.net/v/20200630152107684'...  "
      ]
     },
     "execution_count": 60,
     "metadata": {},
     "output_type": "execute_result"
    }
   ],
   "source": [
    "test1.df"
   ]
  },
  {
   "cell_type": "code",
   "execution_count": 61,
   "metadata": {},
   "outputs": [],
   "source": [
    "visual = Visual(test1.df,2020,6,30)"
   ]
  },
  {
   "cell_type": "code",
   "execution_count": 62,
   "metadata": {
    "scrolled": true
   },
   "outputs": [
    {
     "name": "stderr",
     "output_type": "stream",
     "text": [
      "C:\\Users\\gustn\\AppData\\Local\\Continuum\\anaconda3\\lib\\site-packages\\ipykernel_launcher.py:11: FutureWarning: Comparing Series of datetimes with 'datetime.date'.  Currently, the\n",
      "'datetime.date' is coerced to a datetime. In the future pandas will\n",
      "not coerce, and 'the values will not compare equal to the\n",
      "'datetime.date'. To retain the current behavior, convert the\n",
      "'datetime.date' to a datetime with 'pd.Timestamp'.\n",
      "  # This is added back by InteractiveShellApp.init_path()\n"
     ]
    },
    {
     "name": "stdout",
     "output_type": "stream",
     "text": [
      "제목을 입력해주세요: test\n"
     ]
    },
    {
     "data": {
      "image/png": "[encoded data removed]",
      "text/plain": [
       "<Figure size 432x288 with 1 Axes>"
      ]
     },
     "metadata": {
      "needs_background": "light"
     },
     "output_type": "display_data"
    }
   ],
   "source": [
    "visual.plot()"
   ]
  },
  {
   "cell_type": "code",
   "execution_count": 63,
   "metadata": {},
   "outputs": [
    {
     "name": "stdout",
     "output_type": "stream",
     "text": [
      "단어를 입력해주세요 : EU\n"
     ]
    },
    {
     "data": {
      "image/png": "[encoded data removed]",
      "text/plain": [
       "<Figure size 432x288 with 1 Axes>"
      ]
     },
     "metadata": {
      "needs_background": "light"
     },
     "output_type": "display_data"
    }
   ],
   "source": [
    "visual.line_plot()"
   ]
  },
  {
   "cell_type": "code",
   "execution_count": null,
   "metadata": {},
   "outputs": [],
   "source": [
    "test1.new_ser"
   ]
  },
  {
   "cell_type": "code",
   "execution_count": 20,
   "metadata": {},
   "outputs": [
    {
     "name": "stdout",
     "output_type": "stream",
     "text": [
      "test.xlsx이 C:\\Users\\gustn\\bigdataprogramming에 저장되었습니다.\n"
     ]
    }
   ],
   "source": [
    "test1.to_excel()"
   ]
  },
  {
   "cell_type": "code",
   "execution_count": null,
   "metadata": {},
   "outputs": [],
   "source": []
  }
 ],
 "metadata": {
  "kernelspec": {
   "display_name": "Python 3",
   "language": "python",
   "name": "python3"
  },
  "language_info": {
   "codemirror_mode": {
    "name": "ipython",
    "version": 3
   },
   "file_extension": ".py",
   "mimetype": "text/x-python",
   "name": "python",
   "nbconvert_exporter": "python",
   "pygments_lexer": "ipython3",
   "version": "3.7.3"
  }
 },
 "nbformat": 4,
 "nbformat_minor": 2
}
